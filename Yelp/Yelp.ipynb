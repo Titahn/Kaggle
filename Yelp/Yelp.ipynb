{
 "cells": [
  {
   "cell_type": "code",
   "execution_count": 1,
   "metadata": {},
   "outputs": [],
   "source": [
    "%matplotlib inline\n",
    "from fastai.vision import *"
   ]
  },
  {
   "cell_type": "code",
   "execution_count": 8,
   "metadata": {},
   "outputs": [
    {
     "data": {
      "text/html": [
       "<div>\n",
       "<style scoped>\n",
       "    .dataframe tbody tr th:only-of-type {\n",
       "        vertical-align: middle;\n",
       "    }\n",
       "\n",
       "    .dataframe tbody tr th {\n",
       "        vertical-align: top;\n",
       "    }\n",
       "\n",
       "    .dataframe thead th {\n",
       "        text-align: right;\n",
       "    }\n",
       "</style>\n",
       "<table border=\"1\" class=\"dataframe\">\n",
       "  <thead>\n",
       "    <tr style=\"text-align: right;\">\n",
       "      <th></th>\n",
       "      <th>photo_id</th>\n",
       "      <th>business_id</th>\n",
       "    </tr>\n",
       "  </thead>\n",
       "  <tbody>\n",
       "    <tr>\n",
       "      <th>0</th>\n",
       "      <td>204149</td>\n",
       "      <td>3034</td>\n",
       "    </tr>\n",
       "    <tr>\n",
       "      <th>1</th>\n",
       "      <td>52779</td>\n",
       "      <td>2805</td>\n",
       "    </tr>\n",
       "    <tr>\n",
       "      <th>2</th>\n",
       "      <td>278973</td>\n",
       "      <td>485</td>\n",
       "    </tr>\n",
       "    <tr>\n",
       "      <th>3</th>\n",
       "      <td>195284</td>\n",
       "      <td>485</td>\n",
       "    </tr>\n",
       "    <tr>\n",
       "      <th>4</th>\n",
       "      <td>19992</td>\n",
       "      <td>485</td>\n",
       "    </tr>\n",
       "  </tbody>\n",
       "</table>\n",
       "</div>"
      ],
      "text/plain": [
       "   photo_id  business_id\n",
       "0    204149         3034\n",
       "1     52779         2805\n",
       "2    278973          485\n",
       "3    195284          485\n",
       "4     19992          485"
      ]
     },
     "execution_count": 8,
     "metadata": {},
     "output_type": "execute_result"
    }
   ],
   "source": [
    "# Dataset : kaggle competitions download -c yelp-restaurant-photo-classification\n",
    "df_tptbi = pd.read_csv(\"train_photo_to_biz_ids.csv\")\n",
    "df_tptbi.head()\n",
    "# df_tptbi.isna().sum()"
   ]
  },
  {
   "cell_type": "code",
   "execution_count": 9,
   "metadata": {},
   "outputs": [
    {
     "data": {
      "text/html": [
       "<div>\n",
       "<style scoped>\n",
       "    .dataframe tbody tr th:only-of-type {\n",
       "        vertical-align: middle;\n",
       "    }\n",
       "\n",
       "    .dataframe tbody tr th {\n",
       "        vertical-align: top;\n",
       "    }\n",
       "\n",
       "    .dataframe thead th {\n",
       "        text-align: right;\n",
       "    }\n",
       "</style>\n",
       "<table border=\"1\" class=\"dataframe\">\n",
       "  <thead>\n",
       "    <tr style=\"text-align: right;\">\n",
       "      <th></th>\n",
       "      <th>business_id</th>\n",
       "      <th>labels</th>\n",
       "    </tr>\n",
       "  </thead>\n",
       "  <tbody>\n",
       "    <tr>\n",
       "      <th>0</th>\n",
       "      <td>1000</td>\n",
       "      <td>1 2 3 4 5 6 7</td>\n",
       "    </tr>\n",
       "    <tr>\n",
       "      <th>1</th>\n",
       "      <td>1001</td>\n",
       "      <td>0 1 6 8</td>\n",
       "    </tr>\n",
       "    <tr>\n",
       "      <th>2</th>\n",
       "      <td>100</td>\n",
       "      <td>1 2 4 5 6 7</td>\n",
       "    </tr>\n",
       "    <tr>\n",
       "      <th>3</th>\n",
       "      <td>1006</td>\n",
       "      <td>1 2 4 5 6</td>\n",
       "    </tr>\n",
       "    <tr>\n",
       "      <th>4</th>\n",
       "      <td>1010</td>\n",
       "      <td>0 6 8</td>\n",
       "    </tr>\n",
       "  </tbody>\n",
       "</table>\n",
       "</div>"
      ],
      "text/plain": [
       "   business_id         labels\n",
       "0         1000  1 2 3 4 5 6 7\n",
       "1         1001        0 1 6 8\n",
       "2          100    1 2 4 5 6 7\n",
       "3         1006      1 2 4 5 6\n",
       "4         1010          0 6 8"
      ]
     },
     "execution_count": 9,
     "metadata": {},
     "output_type": "execute_result"
    }
   ],
   "source": [
    "df_train = pd.read_csv(\"train.csv\")\n",
    "df_train.head()\n",
    "# df_train.isna().sum()\n",
    "# df_train[\"labels\"].value_counts(dropna=False)[70:100]"
   ]
  },
  {
   "cell_type": "code",
   "execution_count": 10,
   "metadata": {},
   "outputs": [],
   "source": [
    "#Jointure des deux dataset pour avoir les labels par image\n",
    "df_tptbi=df_tptbi.merge(df_train,left_on=\"business_id\",right_on=\"business_id\") "
   ]
  },
  {
   "cell_type": "code",
   "execution_count": 11,
   "metadata": {
    "scrolled": true
   },
   "outputs": [
    {
     "data": {
      "text/plain": [
       "photo_id      0\n",
       "labels      297\n",
       "dtype: int64"
      ]
     },
     "execution_count": 11,
     "metadata": {},
     "output_type": "execute_result"
    }
   ],
   "source": [
    "df_tptbid=df_tptbi.drop(\"business_id\", axis=1)\n",
    "df_tptbid.isna().sum() #Labels NaN à remplacer\n",
    "# values = df_tptbid[\"labels\"].value_counts(dropna=False) \n",
    "# values[70:100]"
   ]
  },
  {
   "cell_type": "code",
   "execution_count": 12,
   "metadata": {},
   "outputs": [],
   "source": [
    "dataf = df_tptbid.fillna(\"\")"
   ]
  },
  {
   "cell_type": "code",
   "execution_count": 158,
   "metadata": {},
   "outputs": [
    {
     "data": {
      "text/plain": [
       "photo_id    0\n",
       "labels      0\n",
       "dtype: int64"
      ]
     },
     "execution_count": 158,
     "metadata": {},
     "output_type": "execute_result"
    }
   ],
   "source": [
    "print(dataf.isna().sum())\n",
    "print(dataf[dataf[\"labels\"]==\"\"].count())"
   ]
  },
  {
   "cell_type": "code",
   "execution_count": 170,
   "metadata": {},
   "outputs": [
    {
     "data": {
      "text/plain": [
       "photo_id     int64\n",
       "labels      object\n",
       "dtype: object"
      ]
     },
     "execution_count": 170,
     "metadata": {},
     "output_type": "execute_result"
    }
   ],
   "source": [
    "# dataf.info\n",
    "# df_tptbid.info\n",
    "dataf.dtypes"
   ]
  },
  {
   "cell_type": "code",
   "execution_count": 4,
   "metadata": {},
   "outputs": [],
   "source": [
    "chemin = Path(\"train_photos/\")"
   ]
  },
  {
   "cell_type": "code",
   "execution_count": 160,
   "metadata": {},
   "outputs": [],
   "source": [
    "tfms = get_transforms(flip_vert=False, max_lighting=0.1, max_zoom=1.05, max_warp=0.) #A améliorer"
   ]
  },
  {
   "cell_type": "code",
   "execution_count": 176,
   "metadata": {},
   "outputs": [],
   "source": [
    "np.random.seed(1024)\n",
    "src = (ImageList.from_df(dataf,chemin, folder='.', suffix='.jpg')\n",
    "       .split_by_rand_pct(0.2)\n",
    "       .label_from_df(label_delim=' ')) # On split les labels suivant un espace"
   ]
  },
  {
   "cell_type": "code",
   "execution_count": 177,
   "metadata": {},
   "outputs": [],
   "source": [
    "data = (src.transform(tfms, size=256)\n",
    "        .databunch().normalize(imagenet_stats))"
   ]
  },
  {
   "cell_type": "code",
   "execution_count": 7,
   "metadata": {},
   "outputs": [],
   "source": [
    "# data.show_batch(rows=3, figsize=(12,9))"
   ]
  },
  {
   "cell_type": "code",
   "execution_count": 178,
   "metadata": {},
   "outputs": [],
   "source": [
    "acc_02 = partial(accuracy_thresh, thresh=0.2)\n",
    "f_score = partial(fbeta, thresh=0.2)\n",
    "learn = cnn_learner(data, models.resnet18, metrics=[acc_02, f_score])"
   ]
  },
  {
   "cell_type": "code",
   "execution_count": 92,
   "metadata": {},
   "outputs": [
    {
     "data": {
      "image/png": "[encoded data removed]",
      "text/plain": [
       "<Figure size 432x288 with 1 Axes>"
      ]
     },
     "metadata": {
      "needs_background": "light"
     },
     "output_type": "display_data"
    }
   ],
   "source": [
    "learn.lr_find()\n",
    "learn.recorder.plot()"
   ]
  },
  {
   "cell_type": "code",
   "execution_count": 179,
   "metadata": {
    "scrolled": true
   },
   "outputs": [
    {
     "data": {
      "text/html": [
       "Total time: 1:23:29 <p><table border=\"1\" class=\"dataframe\">\n",
       "  <thead>\n",
       "    <tr style=\"text-align: left;\">\n",
       "      <th>epoch</th>\n",
       "      <th>train_loss</th>\n",
       "      <th>valid_loss</th>\n",
       "      <th>accuracy_thresh</th>\n",
       "      <th>fbeta</th>\n",
       "      <th>time</th>\n",
       "    </tr>\n",
       "  </thead>\n",
       "  <tbody>\n",
       "    <tr>\n",
       "      <td>0</td>\n",
       "      <td>0.514171</td>\n",
       "      <td>0.493281</td>\n",
       "      <td>0.661048</td>\n",
       "      <td>0.838892</td>\n",
       "      <td>13:51</td>\n",
       "    </tr>\n",
       "    <tr>\n",
       "      <td>1</td>\n",
       "      <td>0.525007</td>\n",
       "      <td>0.594311</td>\n",
       "      <td>0.671131</td>\n",
       "      <td>0.832271</td>\n",
       "      <td>13:48</td>\n",
       "    </tr>\n",
       "    <tr>\n",
       "      <td>2</td>\n",
       "      <td>0.515135</td>\n",
       "      <td>0.525020</td>\n",
       "      <td>0.678817</td>\n",
       "      <td>0.834273</td>\n",
       "      <td>14:07</td>\n",
       "    </tr>\n",
       "    <tr>\n",
       "      <td>3</td>\n",
       "      <td>0.493521</td>\n",
       "      <td>0.519772</td>\n",
       "      <td>0.684348</td>\n",
       "      <td>0.842793</td>\n",
       "      <td>14:05</td>\n",
       "    </tr>\n",
       "    <tr>\n",
       "      <td>4</td>\n",
       "      <td>0.479971</td>\n",
       "      <td>0.467501</td>\n",
       "      <td>0.682739</td>\n",
       "      <td>0.846070</td>\n",
       "      <td>13:59</td>\n",
       "    </tr>\n",
       "    <tr>\n",
       "      <td>5</td>\n",
       "      <td>0.472583</td>\n",
       "      <td>0.461861</td>\n",
       "      <td>0.681166</td>\n",
       "      <td>0.846750</td>\n",
       "      <td>13:37</td>\n",
       "    </tr>\n",
       "  </tbody>\n",
       "</table>"
      ],
      "text/plain": [
       "<IPython.core.display.HTML object>"
      ]
     },
     "metadata": {},
     "output_type": "display_data"
    }
   ],
   "source": [
    "learn.fit_one_cycle(6, slice(3e-2))"
   ]
  },
  {
   "cell_type": "code",
   "execution_count": 180,
   "metadata": {},
   "outputs": [],
   "source": [
    "learn.save('step1-RN18')"
   ]
  },
  {
   "cell_type": "code",
   "execution_count": 181,
   "metadata": {},
   "outputs": [],
   "source": [
    "learn.unfreeze()"
   ]
  },
  {
   "cell_type": "code",
   "execution_count": 182,
   "metadata": {},
   "outputs": [
    {
     "data": {
      "text/html": [],
      "text/plain": [
       "<IPython.core.display.HTML object>"
      ]
     },
     "metadata": {},
     "output_type": "display_data"
    },
    {
     "name": "stdout",
     "output_type": "stream",
     "text": [
      "LR Finder is complete, type {learner_name}.recorder.plot() to see the graph.\n"
     ]
    },
    {
     "data": {
      "image/png": "[encoded data removed]",
      "text/plain": [
       "<Figure size 432x288 with 1 Axes>"
      ]
     },
     "metadata": {
      "needs_background": "light"
     },
     "output_type": "display_data"
    }
   ],
   "source": [
    "learn.lr_find()\n",
    "learn.recorder.plot()"
   ]
  },
  {
   "cell_type": "code",
   "execution_count": 183,
   "metadata": {},
   "outputs": [
    {
     "data": {
      "text/html": [
       "Total time: 41:23 <p><table border=\"1\" class=\"dataframe\">\n",
       "  <thead>\n",
       "    <tr style=\"text-align: left;\">\n",
       "      <th>epoch</th>\n",
       "      <th>train_loss</th>\n",
       "      <th>valid_loss</th>\n",
       "      <th>accuracy_thresh</th>\n",
       "      <th>fbeta</th>\n",
       "      <th>time</th>\n",
       "    </tr>\n",
       "  </thead>\n",
       "  <tbody>\n",
       "    <tr>\n",
       "      <td>0</td>\n",
       "      <td>0.462242</td>\n",
       "      <td>0.455579</td>\n",
       "      <td>0.691168</td>\n",
       "      <td>0.849084</td>\n",
       "      <td>13:45</td>\n",
       "    </tr>\n",
       "    <tr>\n",
       "      <td>1</td>\n",
       "      <td>0.451944</td>\n",
       "      <td>0.446136</td>\n",
       "      <td>0.702968</td>\n",
       "      <td>0.852927</td>\n",
       "      <td>13:53</td>\n",
       "    </tr>\n",
       "    <tr>\n",
       "      <td>2</td>\n",
       "      <td>0.444964</td>\n",
       "      <td>0.442197</td>\n",
       "      <td>0.702329</td>\n",
       "      <td>0.853397</td>\n",
       "      <td>13:43</td>\n",
       "    </tr>\n",
       "  </tbody>\n",
       "</table>"
      ],
      "text/plain": [
       "<IPython.core.display.HTML object>"
      ]
     },
     "metadata": {},
     "output_type": "display_data"
    }
   ],
   "source": [
    "learn.fit_one_cycle(3, slice(5e-6, 1e-4))"
   ]
  },
  {
   "cell_type": "code",
   "execution_count": 184,
   "metadata": {},
   "outputs": [],
   "source": [
    "learn.save('step2-RN18')"
   ]
  },
  {
   "cell_type": "code",
   "execution_count": 188,
   "metadata": {},
   "outputs": [],
   "source": [
    "learn.export()"
   ]
  },
  {
   "cell_type": "code",
   "execution_count": 5,
   "metadata": {},
   "outputs": [],
   "source": [
    "learn = load_learner(chemin, test=ImageList.from_folder('./test_photos'))"
   ]
  },
  {
   "cell_type": "code",
   "execution_count": 6,
   "metadata": {},
   "outputs": [
    {
     "data": {
      "text/plain": [
       "tensor([[0.0632, 0.8878, 0.9477,  ..., 0.9868, 0.6703, 0.2998],\n",
       "        [0.4057, 0.4069, 0.3738,  ..., 0.5508, 0.1318, 0.7211],\n",
       "        [0.0989, 0.5946, 0.6173,  ..., 0.7999, 0.3088, 0.3220],\n",
       "        ...,\n",
       "        [0.5065, 0.2380, 0.2871,  ..., 0.3781, 0.0968, 0.8807],\n",
       "        [0.3009, 0.2466, 0.2897,  ..., 0.4386, 0.1260, 0.7410],\n",
       "        [0.3131, 0.3759, 0.4689,  ..., 0.7315, 0.1122, 0.6469]])"
      ]
     },
     "execution_count": 6,
     "metadata": {},
     "output_type": "execute_result"
    }
   ],
   "source": [
    "preds,y = learn.get_preds(ds_type=DatasetType.Test)\n",
    "preds"
   ]
  },
  {
   "cell_type": "code",
   "execution_count": 60,
   "metadata": {},
   "outputs": [],
   "source": [
    "# Crée un dataframe avec les noms des photos et les prédictions (au format tensor)\n",
    "submission = pd.DataFrame({'file': os.listdir('test_photos'), 'labels': preds}) "
   ]
  },
  {
   "cell_type": "code",
   "execution_count": 52,
   "metadata": {},
   "outputs": [
    {
     "data": {
      "text/html": [
       "<div>\n",
       "<style scoped>\n",
       "    .dataframe tbody tr th:only-of-type {\n",
       "        vertical-align: middle;\n",
       "    }\n",
       "\n",
       "    .dataframe tbody tr th {\n",
       "        vertical-align: top;\n",
       "    }\n",
       "\n",
       "    .dataframe thead th {\n",
       "        text-align: right;\n",
       "    }\n",
       "</style>\n",
       "<table border=\"1\" class=\"dataframe\">\n",
       "  <thead>\n",
       "    <tr style=\"text-align: right;\">\n",
       "      <th></th>\n",
       "      <th>file</th>\n",
       "      <th>labels</th>\n",
       "    </tr>\n",
       "  </thead>\n",
       "  <tbody>\n",
       "    <tr>\n",
       "      <th>0</th>\n",
       "      <td>204190.jpg</td>\n",
       "      <td>(tensor(0.0632), tensor(0.8878), tensor(0.9477...</td>\n",
       "    </tr>\n",
       "    <tr>\n",
       "      <th>1</th>\n",
       "      <td>115987.jpg</td>\n",
       "      <td>(tensor(0.4057), tensor(0.4069), tensor(0.3738...</td>\n",
       "    </tr>\n",
       "    <tr>\n",
       "      <th>2</th>\n",
       "      <td>419613.jpg</td>\n",
       "      <td>(tensor(0.0989), tensor(0.5946), tensor(0.6173...</td>\n",
       "    </tr>\n",
       "    <tr>\n",
       "      <th>3</th>\n",
       "      <td>101674.jpg</td>\n",
       "      <td>(tensor(0.0283), tensor(0.9363), tensor(0.9721...</td>\n",
       "    </tr>\n",
       "    <tr>\n",
       "      <th>4</th>\n",
       "      <td>356406.jpg</td>\n",
       "      <td>(tensor(0.1979), tensor(0.6655), tensor(0.6572...</td>\n",
       "    </tr>\n",
       "  </tbody>\n",
       "</table>\n",
       "</div>"
      ],
      "text/plain": [
       "         file                                             labels\n",
       "0  204190.jpg  (tensor(0.0632), tensor(0.8878), tensor(0.9477...\n",
       "1  115987.jpg  (tensor(0.4057), tensor(0.4069), tensor(0.3738...\n",
       "2  419613.jpg  (tensor(0.0989), tensor(0.5946), tensor(0.6173...\n",
       "3  101674.jpg  (tensor(0.0283), tensor(0.9363), tensor(0.9721...\n",
       "4  356406.jpg  (tensor(0.1979), tensor(0.6655), tensor(0.6572..."
      ]
     },
     "execution_count": 52,
     "metadata": {},
     "output_type": "execute_result"
    }
   ],
   "source": [
    "submission.head()"
   ]
  },
  {
   "cell_type": "code",
   "execution_count": 89,
   "metadata": {},
   "outputs": [
    {
     "data": {
      "text/html": [
       "<div>\n",
       "<style scoped>\n",
       "    .dataframe tbody tr th:only-of-type {\n",
       "        vertical-align: middle;\n",
       "    }\n",
       "\n",
       "    .dataframe tbody tr th {\n",
       "        vertical-align: top;\n",
       "    }\n",
       "\n",
       "    .dataframe thead th {\n",
       "        text-align: right;\n",
       "    }\n",
       "</style>\n",
       "<table border=\"1\" class=\"dataframe\">\n",
       "  <thead>\n",
       "    <tr style=\"text-align: right;\">\n",
       "      <th></th>\n",
       "      <th>photo_id</th>\n",
       "      <th>business_id</th>\n",
       "    </tr>\n",
       "  </thead>\n",
       "  <tbody>\n",
       "    <tr>\n",
       "      <th>0</th>\n",
       "      <td>317818</td>\n",
       "      <td>003sg</td>\n",
       "    </tr>\n",
       "    <tr>\n",
       "      <th>1</th>\n",
       "      <td>30679</td>\n",
       "      <td>003sg</td>\n",
       "    </tr>\n",
       "    <tr>\n",
       "      <th>2</th>\n",
       "      <td>455084</td>\n",
       "      <td>003sg</td>\n",
       "    </tr>\n",
       "    <tr>\n",
       "      <th>3</th>\n",
       "      <td>371381</td>\n",
       "      <td>003sg</td>\n",
       "    </tr>\n",
       "    <tr>\n",
       "      <th>4</th>\n",
       "      <td>86224</td>\n",
       "      <td>003sg</td>\n",
       "    </tr>\n",
       "  </tbody>\n",
       "</table>\n",
       "</div>"
      ],
      "text/plain": [
       "  photo_id business_id\n",
       "0   317818       003sg\n",
       "1    30679       003sg\n",
       "2   455084       003sg\n",
       "3   371381       003sg\n",
       "4    86224       003sg"
      ]
     },
     "execution_count": 89,
     "metadata": {},
     "output_type": "execute_result"
    }
   ],
   "source": [
    "df_test = pd.read_csv(\"test_photo_to_biz.csv\")\n",
    "df_test = df_test.astype(str) # Pour pouvoir faire la jointure plus tard\n",
    "df_test.head(5)"
   ]
  },
  {
   "cell_type": "code",
   "execution_count": 95,
   "metadata": {},
   "outputs": [
    {
     "data": {
      "text/plain": [
       "182938    16\n",
       "235151    16\n",
       "426819    16\n",
       "91974     16\n",
       "91600     15\n",
       "221464    15\n",
       "279986    15\n",
       "404217    15\n",
       "244853    15\n",
       "24198     15\n",
       "395184    15\n",
       "449227    15\n",
       "434693    15\n",
       "252826    15\n",
       "358824    15\n",
       "7545      15\n",
       "423182    14\n",
       "88251     14\n",
       "82675     14\n",
       "360083    14\n",
       "435552    14\n",
       "116914    14\n",
       "314336    14\n",
       "322558    14\n",
       "230477    14\n",
       "267685    14\n",
       "229721    14\n",
       "271423    14\n",
       "323622    14\n",
       "223175    14\n",
       "          ..\n",
       "325185     1\n",
       "117323     1\n",
       "218320     1\n",
       "267442     1\n",
       "83098      1\n",
       "4811       1\n",
       "408519     1\n",
       "231788     1\n",
       "429321     1\n",
       "60555      1\n",
       "432549     1\n",
       "97917      1\n",
       "404742     1\n",
       "344171     1\n",
       "257554     1\n",
       "304223     1\n",
       "252947     1\n",
       "60796      1\n",
       "279049     1\n",
       "138061     1\n",
       "404420     1\n",
       "122535     1\n",
       "210876     1\n",
       "244313     1\n",
       "412909     1\n",
       "53451      1\n",
       "15982      1\n",
       "159649     1\n",
       "356068     1\n",
       "257972     1\n",
       "Name: photo_id, Length: 237152, dtype: int64"
      ]
     },
     "execution_count": 95,
     "metadata": {},
     "output_type": "execute_result"
    }
   ],
   "source": [
    "df_test[\"photo_id\"].value_counts(dropna=False) # Pas mal de doublons de photos. Parfois pour des business différents"
   ]
  },
  {
   "cell_type": "code",
   "execution_count": 61,
   "metadata": {},
   "outputs": [
    {
     "data": {
      "text/html": [
       "<div>\n",
       "<style scoped>\n",
       "    .dataframe tbody tr th:only-of-type {\n",
       "        vertical-align: middle;\n",
       "    }\n",
       "\n",
       "    .dataframe tbody tr th {\n",
       "        vertical-align: top;\n",
       "    }\n",
       "\n",
       "    .dataframe thead th {\n",
       "        text-align: right;\n",
       "    }\n",
       "</style>\n",
       "<table border=\"1\" class=\"dataframe\">\n",
       "  <thead>\n",
       "    <tr style=\"text-align: right;\">\n",
       "      <th></th>\n",
       "      <th>file</th>\n",
       "      <th>labels</th>\n",
       "    </tr>\n",
       "  </thead>\n",
       "  <tbody>\n",
       "    <tr>\n",
       "      <th>0</th>\n",
       "      <td>204190.jpg</td>\n",
       "      <td>0.0632,0.8878,0.9477,0.5576,0.6093,0.9577,0.98...</td>\n",
       "    </tr>\n",
       "    <tr>\n",
       "      <th>1</th>\n",
       "      <td>115987.jpg</td>\n",
       "      <td>0.4057,0.4069,0.3738,0.4976,0.1454,0.6356,0.55...</td>\n",
       "    </tr>\n",
       "    <tr>\n",
       "      <th>2</th>\n",
       "      <td>419613.jpg</td>\n",
       "      <td>0.0989,0.5946,0.6173,0.4808,0.5469,0.7630,0.79...</td>\n",
       "    </tr>\n",
       "    <tr>\n",
       "      <th>3</th>\n",
       "      <td>101674.jpg</td>\n",
       "      <td>0.0283,0.9363,0.9721,0.4414,0.8247,0.9795,0.99...</td>\n",
       "    </tr>\n",
       "    <tr>\n",
       "      <th>4</th>\n",
       "      <td>356406.jpg</td>\n",
       "      <td>0.1979,0.6655,0.6572,0.4072,0.3576,0.8759,0.84...</td>\n",
       "    </tr>\n",
       "  </tbody>\n",
       "</table>\n",
       "</div>"
      ],
      "text/plain": [
       "         file                                             labels\n",
       "0  204190.jpg  0.0632,0.8878,0.9477,0.5576,0.6093,0.9577,0.98...\n",
       "1  115987.jpg  0.4057,0.4069,0.3738,0.4976,0.1454,0.6356,0.55...\n",
       "2  419613.jpg  0.0989,0.5946,0.6173,0.4808,0.5469,0.7630,0.79...\n",
       "3  101674.jpg  0.0283,0.9363,0.9721,0.4414,0.8247,0.9795,0.99...\n",
       "4  356406.jpg  0.1979,0.6655,0.6572,0.4072,0.3576,0.8759,0.84..."
      ]
     },
     "execution_count": 61,
     "metadata": {},
     "output_type": "execute_result"
    }
   ],
   "source": [
    "# On ne garde que les résultats par label dans une unique colonne label, séparés par des virgules\n",
    "submission = submission.astype(str) # Pour pouvoir faire les replace\n",
    "submission[\"labels\"] = (submission[\"labels\"]\n",
    "              .str.replace('tensor',\"\") # Erreur quand 'tensor('. Cause non déterminée\n",
    "              .str.replace(')',\"\")\n",
    "              .str.replace('(',\"\")\n",
    "              .str.replace(\" \",\"\")\n",
    "             )\n",
    "submission.head()"
   ]
  },
  {
   "cell_type": "code",
   "execution_count": 69,
   "metadata": {},
   "outputs": [
    {
     "data": {
      "text/html": [
       "<div>\n",
       "<style scoped>\n",
       "    .dataframe tbody tr th:only-of-type {\n",
       "        vertical-align: middle;\n",
       "    }\n",
       "\n",
       "    .dataframe tbody tr th {\n",
       "        vertical-align: top;\n",
       "    }\n",
       "\n",
       "    .dataframe thead th {\n",
       "        text-align: right;\n",
       "    }\n",
       "</style>\n",
       "<table border=\"1\" class=\"dataframe\">\n",
       "  <thead>\n",
       "    <tr style=\"text-align: right;\">\n",
       "      <th></th>\n",
       "      <th>0</th>\n",
       "      <th>1</th>\n",
       "      <th>2</th>\n",
       "      <th>3</th>\n",
       "      <th>4</th>\n",
       "      <th>5</th>\n",
       "      <th>6</th>\n",
       "      <th>7</th>\n",
       "      <th>8</th>\n",
       "    </tr>\n",
       "  </thead>\n",
       "  <tbody>\n",
       "    <tr>\n",
       "      <th>0</th>\n",
       "      <td>0.0632</td>\n",
       "      <td>0.8878</td>\n",
       "      <td>0.9477</td>\n",
       "      <td>0.5576</td>\n",
       "      <td>0.6093</td>\n",
       "      <td>0.9577</td>\n",
       "      <td>0.9868</td>\n",
       "      <td>0.6703</td>\n",
       "      <td>0.2998</td>\n",
       "    </tr>\n",
       "    <tr>\n",
       "      <th>1</th>\n",
       "      <td>0.4057</td>\n",
       "      <td>0.4069</td>\n",
       "      <td>0.3738</td>\n",
       "      <td>0.4976</td>\n",
       "      <td>0.1454</td>\n",
       "      <td>0.6356</td>\n",
       "      <td>0.5508</td>\n",
       "      <td>0.1318</td>\n",
       "      <td>0.7211</td>\n",
       "    </tr>\n",
       "    <tr>\n",
       "      <th>2</th>\n",
       "      <td>0.0989</td>\n",
       "      <td>0.5946</td>\n",
       "      <td>0.6173</td>\n",
       "      <td>0.4808</td>\n",
       "      <td>0.5469</td>\n",
       "      <td>0.7630</td>\n",
       "      <td>0.7999</td>\n",
       "      <td>0.3088</td>\n",
       "      <td>0.3220</td>\n",
       "    </tr>\n",
       "  </tbody>\n",
       "</table>\n",
       "</div>"
      ],
      "text/plain": [
       "        0       1       2       3       4       5       6       7       8\n",
       "0  0.0632  0.8878  0.9477  0.5576  0.6093  0.9577  0.9868  0.6703  0.2998\n",
       "1  0.4057  0.4069  0.3738  0.4976  0.1454  0.6356  0.5508  0.1318  0.7211\n",
       "2  0.0989  0.5946  0.6173  0.4808  0.5469  0.7630  0.7999  0.3088  0.3220"
      ]
     },
     "execution_count": 69,
     "metadata": {},
     "output_type": "execute_result"
    }
   ],
   "source": [
    "# On split dans un nouveau Df la colonne labels en 9 colonnes, sur les \",\"\n",
    "mew = submission[\"labels\"].str.split(\",\", n = 8, expand = True).astype(float) \n",
    "mew.head(3)"
   ]
  },
  {
   "cell_type": "code",
   "execution_count": 71,
   "metadata": {},
   "outputs": [
    {
     "data": {
      "text/plain": [
       "0    float64\n",
       "1    float64\n",
       "2    float64\n",
       "3    float64\n",
       "4    float64\n",
       "5    float64\n",
       "6    float64\n",
       "7    float64\n",
       "8    float64\n",
       "dtype: object"
      ]
     },
     "execution_count": 71,
     "metadata": {},
     "output_type": "execute_result"
    }
   ],
   "source": [
    "mew.dtypes"
   ]
  },
  {
   "cell_type": "code",
   "execution_count": 76,
   "metadata": {},
   "outputs": [],
   "source": [
    "# On rajoute ces colonnes dans le Df original\n",
    "for i in range(9):\n",
    "    submission[f\"{i}\"]=mew[i]\n",
    "    "
   ]
  },
  {
   "cell_type": "code",
   "execution_count": 79,
   "metadata": {},
   "outputs": [
    {
     "data": {
      "text/html": [
       "<div>\n",
       "<style scoped>\n",
       "    .dataframe tbody tr th:only-of-type {\n",
       "        vertical-align: middle;\n",
       "    }\n",
       "\n",
       "    .dataframe tbody tr th {\n",
       "        vertical-align: top;\n",
       "    }\n",
       "\n",
       "    .dataframe thead th {\n",
       "        text-align: right;\n",
       "    }\n",
       "</style>\n",
       "<table border=\"1\" class=\"dataframe\">\n",
       "  <thead>\n",
       "    <tr style=\"text-align: right;\">\n",
       "      <th></th>\n",
       "      <th>file</th>\n",
       "      <th>labels</th>\n",
       "      <th>0</th>\n",
       "      <th>1</th>\n",
       "      <th>2</th>\n",
       "      <th>3</th>\n",
       "      <th>4</th>\n",
       "      <th>5</th>\n",
       "      <th>6</th>\n",
       "      <th>7</th>\n",
       "      <th>8</th>\n",
       "    </tr>\n",
       "  </thead>\n",
       "  <tbody>\n",
       "    <tr>\n",
       "      <th>0</th>\n",
       "      <td>204190.jpg</td>\n",
       "      <td>0.0632,0.8878,0.9477,0.5576,0.6093,0.9577,0.98...</td>\n",
       "      <td>0.0632</td>\n",
       "      <td>0.8878</td>\n",
       "      <td>0.9477</td>\n",
       "      <td>0.5576</td>\n",
       "      <td>0.6093</td>\n",
       "      <td>0.9577</td>\n",
       "      <td>0.9868</td>\n",
       "      <td>0.6703</td>\n",
       "      <td>0.2998</td>\n",
       "    </tr>\n",
       "    <tr>\n",
       "      <th>1</th>\n",
       "      <td>115987.jpg</td>\n",
       "      <td>0.4057,0.4069,0.3738,0.4976,0.1454,0.6356,0.55...</td>\n",
       "      <td>0.4057</td>\n",
       "      <td>0.4069</td>\n",
       "      <td>0.3738</td>\n",
       "      <td>0.4976</td>\n",
       "      <td>0.1454</td>\n",
       "      <td>0.6356</td>\n",
       "      <td>0.5508</td>\n",
       "      <td>0.1318</td>\n",
       "      <td>0.7211</td>\n",
       "    </tr>\n",
       "    <tr>\n",
       "      <th>2</th>\n",
       "      <td>419613.jpg</td>\n",
       "      <td>0.0989,0.5946,0.6173,0.4808,0.5469,0.7630,0.79...</td>\n",
       "      <td>0.0989</td>\n",
       "      <td>0.5946</td>\n",
       "      <td>0.6173</td>\n",
       "      <td>0.4808</td>\n",
       "      <td>0.5469</td>\n",
       "      <td>0.7630</td>\n",
       "      <td>0.7999</td>\n",
       "      <td>0.3088</td>\n",
       "      <td>0.3220</td>\n",
       "    </tr>\n",
       "    <tr>\n",
       "      <th>3</th>\n",
       "      <td>101674.jpg</td>\n",
       "      <td>0.0283,0.9363,0.9721,0.4414,0.8247,0.9795,0.99...</td>\n",
       "      <td>0.0283</td>\n",
       "      <td>0.9363</td>\n",
       "      <td>0.9721</td>\n",
       "      <td>0.4414</td>\n",
       "      <td>0.8247</td>\n",
       "      <td>0.9795</td>\n",
       "      <td>0.9951</td>\n",
       "      <td>0.6550</td>\n",
       "      <td>0.1145</td>\n",
       "    </tr>\n",
       "    <tr>\n",
       "      <th>4</th>\n",
       "      <td>356406.jpg</td>\n",
       "      <td>0.1979,0.6655,0.6572,0.4072,0.3576,0.8759,0.84...</td>\n",
       "      <td>0.1979</td>\n",
       "      <td>0.6655</td>\n",
       "      <td>0.6572</td>\n",
       "      <td>0.4072</td>\n",
       "      <td>0.3576</td>\n",
       "      <td>0.8759</td>\n",
       "      <td>0.8484</td>\n",
       "      <td>0.2675</td>\n",
       "      <td>0.3769</td>\n",
       "    </tr>\n",
       "  </tbody>\n",
       "</table>\n",
       "</div>"
      ],
      "text/plain": [
       "         file                                             labels       0  \\\n",
       "0  204190.jpg  0.0632,0.8878,0.9477,0.5576,0.6093,0.9577,0.98...  0.0632   \n",
       "1  115987.jpg  0.4057,0.4069,0.3738,0.4976,0.1454,0.6356,0.55...  0.4057   \n",
       "2  419613.jpg  0.0989,0.5946,0.6173,0.4808,0.5469,0.7630,0.79...  0.0989   \n",
       "3  101674.jpg  0.0283,0.9363,0.9721,0.4414,0.8247,0.9795,0.99...  0.0283   \n",
       "4  356406.jpg  0.1979,0.6655,0.6572,0.4072,0.3576,0.8759,0.84...  0.1979   \n",
       "\n",
       "        1       2       3       4       5       6       7       8  \n",
       "0  0.8878  0.9477  0.5576  0.6093  0.9577  0.9868  0.6703  0.2998  \n",
       "1  0.4069  0.3738  0.4976  0.1454  0.6356  0.5508  0.1318  0.7211  \n",
       "2  0.5946  0.6173  0.4808  0.5469  0.7630  0.7999  0.3088  0.3220  \n",
       "3  0.9363  0.9721  0.4414  0.8247  0.9795  0.9951  0.6550  0.1145  \n",
       "4  0.6655  0.6572  0.4072  0.3576  0.8759  0.8484  0.2675  0.3769  "
      ]
     },
     "execution_count": 79,
     "metadata": {},
     "output_type": "execute_result"
    }
   ],
   "source": [
    "submission.head()"
   ]
  },
  {
   "cell_type": "code",
   "execution_count": 80,
   "metadata": {},
   "outputs": [
    {
     "data": {
      "text/html": [
       "<div>\n",
       "<style scoped>\n",
       "    .dataframe tbody tr th:only-of-type {\n",
       "        vertical-align: middle;\n",
       "    }\n",
       "\n",
       "    .dataframe tbody tr th {\n",
       "        vertical-align: top;\n",
       "    }\n",
       "\n",
       "    .dataframe thead th {\n",
       "        text-align: right;\n",
       "    }\n",
       "</style>\n",
       "<table border=\"1\" class=\"dataframe\">\n",
       "  <thead>\n",
       "    <tr style=\"text-align: right;\">\n",
       "      <th></th>\n",
       "      <th>file</th>\n",
       "      <th>0</th>\n",
       "      <th>1</th>\n",
       "      <th>2</th>\n",
       "      <th>3</th>\n",
       "      <th>4</th>\n",
       "      <th>5</th>\n",
       "      <th>6</th>\n",
       "      <th>7</th>\n",
       "      <th>8</th>\n",
       "    </tr>\n",
       "  </thead>\n",
       "  <tbody>\n",
       "    <tr>\n",
       "      <th>0</th>\n",
       "      <td>204190.jpg</td>\n",
       "      <td>0.0632</td>\n",
       "      <td>0.8878</td>\n",
       "      <td>0.9477</td>\n",
       "      <td>0.5576</td>\n",
       "      <td>0.6093</td>\n",
       "      <td>0.9577</td>\n",
       "      <td>0.9868</td>\n",
       "      <td>0.6703</td>\n",
       "      <td>0.2998</td>\n",
       "    </tr>\n",
       "    <tr>\n",
       "      <th>1</th>\n",
       "      <td>115987.jpg</td>\n",
       "      <td>0.4057</td>\n",
       "      <td>0.4069</td>\n",
       "      <td>0.3738</td>\n",
       "      <td>0.4976</td>\n",
       "      <td>0.1454</td>\n",
       "      <td>0.6356</td>\n",
       "      <td>0.5508</td>\n",
       "      <td>0.1318</td>\n",
       "      <td>0.7211</td>\n",
       "    </tr>\n",
       "    <tr>\n",
       "      <th>2</th>\n",
       "      <td>419613.jpg</td>\n",
       "      <td>0.0989</td>\n",
       "      <td>0.5946</td>\n",
       "      <td>0.6173</td>\n",
       "      <td>0.4808</td>\n",
       "      <td>0.5469</td>\n",
       "      <td>0.7630</td>\n",
       "      <td>0.7999</td>\n",
       "      <td>0.3088</td>\n",
       "      <td>0.3220</td>\n",
       "    </tr>\n",
       "    <tr>\n",
       "      <th>3</th>\n",
       "      <td>101674.jpg</td>\n",
       "      <td>0.0283</td>\n",
       "      <td>0.9363</td>\n",
       "      <td>0.9721</td>\n",
       "      <td>0.4414</td>\n",
       "      <td>0.8247</td>\n",
       "      <td>0.9795</td>\n",
       "      <td>0.9951</td>\n",
       "      <td>0.6550</td>\n",
       "      <td>0.1145</td>\n",
       "    </tr>\n",
       "    <tr>\n",
       "      <th>4</th>\n",
       "      <td>356406.jpg</td>\n",
       "      <td>0.1979</td>\n",
       "      <td>0.6655</td>\n",
       "      <td>0.6572</td>\n",
       "      <td>0.4072</td>\n",
       "      <td>0.3576</td>\n",
       "      <td>0.8759</td>\n",
       "      <td>0.8484</td>\n",
       "      <td>0.2675</td>\n",
       "      <td>0.3769</td>\n",
       "    </tr>\n",
       "  </tbody>\n",
       "</table>\n",
       "</div>"
      ],
      "text/plain": [
       "         file       0       1       2       3       4       5       6       7  \\\n",
       "0  204190.jpg  0.0632  0.8878  0.9477  0.5576  0.6093  0.9577  0.9868  0.6703   \n",
       "1  115987.jpg  0.4057  0.4069  0.3738  0.4976  0.1454  0.6356  0.5508  0.1318   \n",
       "2  419613.jpg  0.0989  0.5946  0.6173  0.4808  0.5469  0.7630  0.7999  0.3088   \n",
       "3  101674.jpg  0.0283  0.9363  0.9721  0.4414  0.8247  0.9795  0.9951  0.6550   \n",
       "4  356406.jpg  0.1979  0.6655  0.6572  0.4072  0.3576  0.8759  0.8484  0.2675   \n",
       "\n",
       "        8  \n",
       "0  0.2998  \n",
       "1  0.7211  \n",
       "2  0.3220  \n",
       "3  0.1145  \n",
       "4  0.3769  "
      ]
     },
     "execution_count": 80,
     "metadata": {},
     "output_type": "execute_result"
    }
   ],
   "source": [
    "submission.drop(columns =[\"labels\"], inplace = True)\n",
    "submission.head()"
   ]
  },
  {
   "cell_type": "code",
   "execution_count": 82,
   "metadata": {},
   "outputs": [
    {
     "data": {
      "text/html": [
       "<div>\n",
       "<style scoped>\n",
       "    .dataframe tbody tr th:only-of-type {\n",
       "        vertical-align: middle;\n",
       "    }\n",
       "\n",
       "    .dataframe tbody tr th {\n",
       "        vertical-align: top;\n",
       "    }\n",
       "\n",
       "    .dataframe thead th {\n",
       "        text-align: right;\n",
       "    }\n",
       "</style>\n",
       "<table border=\"1\" class=\"dataframe\">\n",
       "  <thead>\n",
       "    <tr style=\"text-align: right;\">\n",
       "      <th></th>\n",
       "      <th>file</th>\n",
       "      <th>0</th>\n",
       "      <th>1</th>\n",
       "      <th>2</th>\n",
       "      <th>3</th>\n",
       "      <th>4</th>\n",
       "      <th>5</th>\n",
       "      <th>6</th>\n",
       "      <th>7</th>\n",
       "      <th>8</th>\n",
       "    </tr>\n",
       "  </thead>\n",
       "  <tbody>\n",
       "    <tr>\n",
       "      <th>0</th>\n",
       "      <td>204190</td>\n",
       "      <td>0.0632</td>\n",
       "      <td>0.8878</td>\n",
       "      <td>0.9477</td>\n",
       "      <td>0.5576</td>\n",
       "      <td>0.6093</td>\n",
       "      <td>0.9577</td>\n",
       "      <td>0.9868</td>\n",
       "      <td>0.6703</td>\n",
       "      <td>0.2998</td>\n",
       "    </tr>\n",
       "    <tr>\n",
       "      <th>1</th>\n",
       "      <td>115987</td>\n",
       "      <td>0.4057</td>\n",
       "      <td>0.4069</td>\n",
       "      <td>0.3738</td>\n",
       "      <td>0.4976</td>\n",
       "      <td>0.1454</td>\n",
       "      <td>0.6356</td>\n",
       "      <td>0.5508</td>\n",
       "      <td>0.1318</td>\n",
       "      <td>0.7211</td>\n",
       "    </tr>\n",
       "    <tr>\n",
       "      <th>2</th>\n",
       "      <td>419613</td>\n",
       "      <td>0.0989</td>\n",
       "      <td>0.5946</td>\n",
       "      <td>0.6173</td>\n",
       "      <td>0.4808</td>\n",
       "      <td>0.5469</td>\n",
       "      <td>0.7630</td>\n",
       "      <td>0.7999</td>\n",
       "      <td>0.3088</td>\n",
       "      <td>0.3220</td>\n",
       "    </tr>\n",
       "    <tr>\n",
       "      <th>3</th>\n",
       "      <td>101674</td>\n",
       "      <td>0.0283</td>\n",
       "      <td>0.9363</td>\n",
       "      <td>0.9721</td>\n",
       "      <td>0.4414</td>\n",
       "      <td>0.8247</td>\n",
       "      <td>0.9795</td>\n",
       "      <td>0.9951</td>\n",
       "      <td>0.6550</td>\n",
       "      <td>0.1145</td>\n",
       "    </tr>\n",
       "    <tr>\n",
       "      <th>4</th>\n",
       "      <td>356406</td>\n",
       "      <td>0.1979</td>\n",
       "      <td>0.6655</td>\n",
       "      <td>0.6572</td>\n",
       "      <td>0.4072</td>\n",
       "      <td>0.3576</td>\n",
       "      <td>0.8759</td>\n",
       "      <td>0.8484</td>\n",
       "      <td>0.2675</td>\n",
       "      <td>0.3769</td>\n",
       "    </tr>\n",
       "  </tbody>\n",
       "</table>\n",
       "</div>"
      ],
      "text/plain": [
       "     file       0       1       2       3       4       5       6       7  \\\n",
       "0  204190  0.0632  0.8878  0.9477  0.5576  0.6093  0.9577  0.9868  0.6703   \n",
       "1  115987  0.4057  0.4069  0.3738  0.4976  0.1454  0.6356  0.5508  0.1318   \n",
       "2  419613  0.0989  0.5946  0.6173  0.4808  0.5469  0.7630  0.7999  0.3088   \n",
       "3  101674  0.0283  0.9363  0.9721  0.4414  0.8247  0.9795  0.9951  0.6550   \n",
       "4  356406  0.1979  0.6655  0.6572  0.4072  0.3576  0.8759  0.8484  0.2675   \n",
       "\n",
       "        8  \n",
       "0  0.2998  \n",
       "1  0.7211  \n",
       "2  0.3220  \n",
       "3  0.1145  \n",
       "4  0.3769  "
      ]
     },
     "execution_count": 82,
     "metadata": {},
     "output_type": "execute_result"
    }
   ],
   "source": [
    "submission[\"file\"] =submission[\"file\"].str.replace('.jpg',\"\")\n",
    "submission.head()\n"
   ]
  },
  {
   "cell_type": "code",
   "execution_count": 86,
   "metadata": {},
   "outputs": [
    {
     "data": {
      "text/html": [
       "<div>\n",
       "<style scoped>\n",
       "    .dataframe tbody tr th:only-of-type {\n",
       "        vertical-align: middle;\n",
       "    }\n",
       "\n",
       "    .dataframe tbody tr th {\n",
       "        vertical-align: top;\n",
       "    }\n",
       "\n",
       "    .dataframe thead th {\n",
       "        text-align: right;\n",
       "    }\n",
       "</style>\n",
       "<table border=\"1\" class=\"dataframe\">\n",
       "  <thead>\n",
       "    <tr style=\"text-align: right;\">\n",
       "      <th></th>\n",
       "      <th>business_id</th>\n",
       "      <th>labels</th>\n",
       "    </tr>\n",
       "  </thead>\n",
       "  <tbody>\n",
       "    <tr>\n",
       "      <th>0</th>\n",
       "      <td>003sg</td>\n",
       "      <td>1 2 3</td>\n",
       "    </tr>\n",
       "    <tr>\n",
       "      <th>1</th>\n",
       "      <td>00er5</td>\n",
       "      <td>1 2 3</td>\n",
       "    </tr>\n",
       "    <tr>\n",
       "      <th>2</th>\n",
       "      <td>00kad</td>\n",
       "      <td>1 2 3</td>\n",
       "    </tr>\n",
       "    <tr>\n",
       "      <th>3</th>\n",
       "      <td>00mc6</td>\n",
       "      <td>1 2 3</td>\n",
       "    </tr>\n",
       "    <tr>\n",
       "      <th>4</th>\n",
       "      <td>00q7x</td>\n",
       "      <td>1 2 3</td>\n",
       "    </tr>\n",
       "  </tbody>\n",
       "</table>\n",
       "</div>"
      ],
      "text/plain": [
       "  business_id labels\n",
       "0       003sg  1 2 3\n",
       "1       00er5  1 2 3\n",
       "2       00kad  1 2 3\n",
       "3       00mc6  1 2 3\n",
       "4       00q7x  1 2 3"
      ]
     },
     "execution_count": 86,
     "metadata": {},
     "output_type": "execute_result"
    }
   ],
   "source": [
    "df_res = pd.read_csv(\"sample_submission.csv\")\n",
    "df_res.head()"
   ]
  },
  {
   "cell_type": "code",
   "execution_count": 90,
   "metadata": {},
   "outputs": [
    {
     "data": {
      "text/html": [
       "<div>\n",
       "<style scoped>\n",
       "    .dataframe tbody tr th:only-of-type {\n",
       "        vertical-align: middle;\n",
       "    }\n",
       "\n",
       "    .dataframe tbody tr th {\n",
       "        vertical-align: top;\n",
       "    }\n",
       "\n",
       "    .dataframe thead th {\n",
       "        text-align: right;\n",
       "    }\n",
       "</style>\n",
       "<table border=\"1\" class=\"dataframe\">\n",
       "  <thead>\n",
       "    <tr style=\"text-align: right;\">\n",
       "      <th></th>\n",
       "      <th>file</th>\n",
       "      <th>0</th>\n",
       "      <th>1</th>\n",
       "      <th>2</th>\n",
       "      <th>3</th>\n",
       "      <th>4</th>\n",
       "      <th>5</th>\n",
       "      <th>6</th>\n",
       "      <th>7</th>\n",
       "      <th>8</th>\n",
       "      <th>photo_id</th>\n",
       "      <th>business_id</th>\n",
       "    </tr>\n",
       "  </thead>\n",
       "  <tbody>\n",
       "    <tr>\n",
       "      <th>0</th>\n",
       "      <td>204190</td>\n",
       "      <td>0.0632</td>\n",
       "      <td>0.8878</td>\n",
       "      <td>0.9477</td>\n",
       "      <td>0.5576</td>\n",
       "      <td>0.6093</td>\n",
       "      <td>0.9577</td>\n",
       "      <td>0.9868</td>\n",
       "      <td>0.6703</td>\n",
       "      <td>0.2998</td>\n",
       "      <td>204190</td>\n",
       "      <td>60aoe</td>\n",
       "    </tr>\n",
       "    <tr>\n",
       "      <th>1</th>\n",
       "      <td>204190</td>\n",
       "      <td>0.0632</td>\n",
       "      <td>0.8878</td>\n",
       "      <td>0.9477</td>\n",
       "      <td>0.5576</td>\n",
       "      <td>0.6093</td>\n",
       "      <td>0.9577</td>\n",
       "      <td>0.9868</td>\n",
       "      <td>0.6703</td>\n",
       "      <td>0.2998</td>\n",
       "      <td>204190</td>\n",
       "      <td>86orh</td>\n",
       "    </tr>\n",
       "    <tr>\n",
       "      <th>2</th>\n",
       "      <td>204190</td>\n",
       "      <td>0.0632</td>\n",
       "      <td>0.8878</td>\n",
       "      <td>0.9477</td>\n",
       "      <td>0.5576</td>\n",
       "      <td>0.6093</td>\n",
       "      <td>0.9577</td>\n",
       "      <td>0.9868</td>\n",
       "      <td>0.6703</td>\n",
       "      <td>0.2998</td>\n",
       "      <td>204190</td>\n",
       "      <td>8bvzw</td>\n",
       "    </tr>\n",
       "    <tr>\n",
       "      <th>3</th>\n",
       "      <td>204190</td>\n",
       "      <td>0.0632</td>\n",
       "      <td>0.8878</td>\n",
       "      <td>0.9477</td>\n",
       "      <td>0.5576</td>\n",
       "      <td>0.6093</td>\n",
       "      <td>0.9577</td>\n",
       "      <td>0.9868</td>\n",
       "      <td>0.6703</td>\n",
       "      <td>0.2998</td>\n",
       "      <td>204190</td>\n",
       "      <td>gtpie</td>\n",
       "    </tr>\n",
       "    <tr>\n",
       "      <th>4</th>\n",
       "      <td>115987</td>\n",
       "      <td>0.4057</td>\n",
       "      <td>0.4069</td>\n",
       "      <td>0.3738</td>\n",
       "      <td>0.4976</td>\n",
       "      <td>0.1454</td>\n",
       "      <td>0.6356</td>\n",
       "      <td>0.5508</td>\n",
       "      <td>0.1318</td>\n",
       "      <td>0.7211</td>\n",
       "      <td>115987</td>\n",
       "      <td>6sh64</td>\n",
       "    </tr>\n",
       "  </tbody>\n",
       "</table>\n",
       "</div>"
      ],
      "text/plain": [
       "     file       0       1       2       3       4       5       6       7  \\\n",
       "0  204190  0.0632  0.8878  0.9477  0.5576  0.6093  0.9577  0.9868  0.6703   \n",
       "1  204190  0.0632  0.8878  0.9477  0.5576  0.6093  0.9577  0.9868  0.6703   \n",
       "2  204190  0.0632  0.8878  0.9477  0.5576  0.6093  0.9577  0.9868  0.6703   \n",
       "3  204190  0.0632  0.8878  0.9477  0.5576  0.6093  0.9577  0.9868  0.6703   \n",
       "4  115987  0.4057  0.4069  0.3738  0.4976  0.1454  0.6356  0.5508  0.1318   \n",
       "\n",
       "        8 photo_id business_id  \n",
       "0  0.2998   204190       60aoe  \n",
       "1  0.2998   204190       86orh  \n",
       "2  0.2998   204190       8bvzw  \n",
       "3  0.2998   204190       gtpie  \n",
       "4  0.7211   115987       6sh64  "
      ]
     },
     "execution_count": 90,
     "metadata": {},
     "output_type": "execute_result"
    }
   ],
   "source": [
    "# On merge avec df_test pour rajouter les business id par image\n",
    "submissionMerged=submission.merge(df_test,left_on=\"file\",right_on=\"photo_id\")\n",
    "submissionMerged.head()"
   ]
  },
  {
   "cell_type": "code",
   "execution_count": 94,
   "metadata": {},
   "outputs": [
    {
     "data": {
      "text/plain": [
       "182938    16\n",
       "91974     16\n",
       "426819    16\n",
       "235151    16\n",
       "244853    15\n",
       "434693    15\n",
       "7545      15\n",
       "252826    15\n",
       "91600     15\n",
       "395184    15\n",
       "449227    15\n",
       "24198     15\n",
       "221464    15\n",
       "404217    15\n",
       "358824    15\n",
       "279986    15\n",
       "411286    14\n",
       "82675     14\n",
       "321492    14\n",
       "118178    14\n",
       "172471    14\n",
       "360083    14\n",
       "372551    14\n",
       "267685    14\n",
       "196519    14\n",
       "147997    14\n",
       "328971    14\n",
       "115995    14\n",
       "314336    14\n",
       "115097    14\n",
       "          ..\n",
       "365940     1\n",
       "470959     1\n",
       "452954     1\n",
       "379101     1\n",
       "239827     1\n",
       "427628     1\n",
       "282382     1\n",
       "35400      1\n",
       "276374     1\n",
       "115423     1\n",
       "148170     1\n",
       "396811     1\n",
       "85043      1\n",
       "462336     1\n",
       "269415     1\n",
       "127749     1\n",
       "278610     1\n",
       "114808     1\n",
       "368673     1\n",
       "197288     1\n",
       "274242     1\n",
       "217811     1\n",
       "377094     1\n",
       "200444     1\n",
       "76851      1\n",
       "163661     1\n",
       "456733     1\n",
       "307521     1\n",
       "394767     1\n",
       "223300     1\n",
       "Name: photo_id, Length: 237152, dtype: int64"
      ]
     },
     "execution_count": 94,
     "metadata": {},
     "output_type": "execute_result"
    }
   ],
   "source": [
    "submissionMerged[\"photo_id\"].value_counts(dropna=False) # On retrouve bien des résultats identiques à précédemment"
   ]
  },
  {
   "cell_type": "code",
   "execution_count": 288,
   "metadata": {},
   "outputs": [],
   "source": [
    "# On fusionne toutes les résultats pour chaque image par business, en faisant la moyenne de leur coefficient de classe\n",
    "sub = submissionMerged.groupby('business_id', as_index=False)['0','1','2','3','4','5','6','7','8'].mean()"
   ]
  },
  {
   "cell_type": "code",
   "execution_count": 289,
   "metadata": {},
   "outputs": [
    {
     "data": {
      "text/plain": [
       "0.5335045962340331"
      ]
     },
     "execution_count": 289,
     "metadata": {},
     "output_type": "execute_result"
    }
   ],
   "source": [
    "sub[\"8\"].mean()\n"
   ]
  },
  {
   "cell_type": "code",
   "execution_count": 290,
   "metadata": {},
   "outputs": [
    {
     "data": {
      "text/html": [
       "<div>\n",
       "<style scoped>\n",
       "    .dataframe tbody tr th:only-of-type {\n",
       "        vertical-align: middle;\n",
       "    }\n",
       "\n",
       "    .dataframe tbody tr th {\n",
       "        vertical-align: top;\n",
       "    }\n",
       "\n",
       "    .dataframe thead th {\n",
       "        text-align: right;\n",
       "    }\n",
       "</style>\n",
       "<table border=\"1\" class=\"dataframe\">\n",
       "  <thead>\n",
       "    <tr style=\"text-align: right;\">\n",
       "      <th></th>\n",
       "      <th>business_id</th>\n",
       "      <th>0</th>\n",
       "      <th>1</th>\n",
       "      <th>2</th>\n",
       "      <th>3</th>\n",
       "      <th>4</th>\n",
       "      <th>5</th>\n",
       "      <th>6</th>\n",
       "      <th>7</th>\n",
       "      <th>8</th>\n",
       "      <th>labels</th>\n",
       "    </tr>\n",
       "  </thead>\n",
       "  <tbody>\n",
       "    <tr>\n",
       "      <th>0</th>\n",
       "      <td>003sg</td>\n",
       "      <td>0.230201</td>\n",
       "      <td>0.596807</td>\n",
       "      <td>0.640554</td>\n",
       "      <td>0.484940</td>\n",
       "      <td>0.432625</td>\n",
       "      <td>0.727936</td>\n",
       "      <td>0.778322</td>\n",
       "      <td>0.382711</td>\n",
       "      <td>0.503943</td>\n",
       "      <td></td>\n",
       "    </tr>\n",
       "    <tr>\n",
       "      <th>1</th>\n",
       "      <td>00er5</td>\n",
       "      <td>0.239906</td>\n",
       "      <td>0.571340</td>\n",
       "      <td>0.629270</td>\n",
       "      <td>0.502097</td>\n",
       "      <td>0.389818</td>\n",
       "      <td>0.732717</td>\n",
       "      <td>0.772937</td>\n",
       "      <td>0.355109</td>\n",
       "      <td>0.537914</td>\n",
       "      <td></td>\n",
       "    </tr>\n",
       "    <tr>\n",
       "      <th>2</th>\n",
       "      <td>00kad</td>\n",
       "      <td>0.251537</td>\n",
       "      <td>0.547811</td>\n",
       "      <td>0.585824</td>\n",
       "      <td>0.493882</td>\n",
       "      <td>0.379825</td>\n",
       "      <td>0.692566</td>\n",
       "      <td>0.731217</td>\n",
       "      <td>0.333190</td>\n",
       "      <td>0.537440</td>\n",
       "      <td></td>\n",
       "    </tr>\n",
       "    <tr>\n",
       "      <th>3</th>\n",
       "      <td>00mc6</td>\n",
       "      <td>0.247113</td>\n",
       "      <td>0.585420</td>\n",
       "      <td>0.617900</td>\n",
       "      <td>0.459667</td>\n",
       "      <td>0.407160</td>\n",
       "      <td>0.712600</td>\n",
       "      <td>0.725760</td>\n",
       "      <td>0.323447</td>\n",
       "      <td>0.531580</td>\n",
       "      <td></td>\n",
       "    </tr>\n",
       "    <tr>\n",
       "      <th>4</th>\n",
       "      <td>00q7x</td>\n",
       "      <td>0.212383</td>\n",
       "      <td>0.563004</td>\n",
       "      <td>0.605767</td>\n",
       "      <td>0.464771</td>\n",
       "      <td>0.385029</td>\n",
       "      <td>0.690475</td>\n",
       "      <td>0.814358</td>\n",
       "      <td>0.340313</td>\n",
       "      <td>0.529050</td>\n",
       "      <td></td>\n",
       "    </tr>\n",
       "  </tbody>\n",
       "</table>\n",
       "</div>"
      ],
      "text/plain": [
       "  business_id         0         1         2         3         4         5  \\\n",
       "0       003sg  0.230201  0.596807  0.640554  0.484940  0.432625  0.727936   \n",
       "1       00er5  0.239906  0.571340  0.629270  0.502097  0.389818  0.732717   \n",
       "2       00kad  0.251537  0.547811  0.585824  0.493882  0.379825  0.692566   \n",
       "3       00mc6  0.247113  0.585420  0.617900  0.459667  0.407160  0.712600   \n",
       "4       00q7x  0.212383  0.563004  0.605767  0.464771  0.385029  0.690475   \n",
       "\n",
       "          6         7         8 labels  \n",
       "0  0.778322  0.382711  0.503943         \n",
       "1  0.772937  0.355109  0.537914         \n",
       "2  0.731217  0.333190  0.537440         \n",
       "3  0.725760  0.323447  0.531580         \n",
       "4  0.814358  0.340313  0.529050         "
      ]
     },
     "execution_count": 290,
     "metadata": {},
     "output_type": "execute_result"
    }
   ],
   "source": [
    "sub[\"labels\"]=\"\"\n",
    "sub.head()"
   ]
  },
  {
   "cell_type": "code",
   "execution_count": 291,
   "metadata": {},
   "outputs": [
    {
     "data": {
      "text/plain": [
       "[0.23943684791202982,\n",
       " 0.5707981776395199,\n",
       " 0.6195639355085326,\n",
       " 0.4873873927432276,\n",
       " 0.3930237522094305,\n",
       " 0.7166923844320545,\n",
       " 0.7643641784720201,\n",
       " 0.3468368335056371,\n",
       " 0.5335045962340331]"
      ]
     },
     "execution_count": 291,
     "metadata": {},
     "output_type": "execute_result"
    }
   ],
   "source": [
    "# Liste de classes et de moyenne des par classe\n",
    "col = ['0','1','2','3','4','5','6','7','8']\n",
    "submean= []\n",
    "for i in col:\n",
    "    submean.append(sub[i].mean())\n",
    "submean"
   ]
  },
  {
   "cell_type": "code",
   "execution_count": 292,
   "metadata": {},
   "outputs": [],
   "source": [
    "# On ajoute dans la colonne labels les classes qui soient dépenssent un seuil prédéfini, soit dépassent la moyenne de chaque classe\n",
    "tresh = 0.49\n",
    "for index, row in sub.iterrows():\n",
    "    j=0\n",
    "    for i in col:\n",
    "        if row[i] > submean[j]:\n",
    "        #if row[i] > tresh:    \n",
    "            sub.at[index, 'labels'] = str(sub.at[index, 'labels']) + \" \" + i\n",
    "        if j < 9:\n",
    "            j+=1\n",
    "\n",
    "\n",
    "\n"
   ]
  },
  {
   "cell_type": "code",
   "execution_count": 293,
   "metadata": {},
   "outputs": [
    {
     "data": {
      "text/html": [
       "<div>\n",
       "<style scoped>\n",
       "    .dataframe tbody tr th:only-of-type {\n",
       "        vertical-align: middle;\n",
       "    }\n",
       "\n",
       "    .dataframe tbody tr th {\n",
       "        vertical-align: top;\n",
       "    }\n",
       "\n",
       "    .dataframe thead th {\n",
       "        text-align: right;\n",
       "    }\n",
       "</style>\n",
       "<table border=\"1\" class=\"dataframe\">\n",
       "  <thead>\n",
       "    <tr style=\"text-align: right;\">\n",
       "      <th></th>\n",
       "      <th>business_id</th>\n",
       "      <th>0</th>\n",
       "      <th>1</th>\n",
       "      <th>2</th>\n",
       "      <th>3</th>\n",
       "      <th>4</th>\n",
       "      <th>5</th>\n",
       "      <th>6</th>\n",
       "      <th>7</th>\n",
       "      <th>8</th>\n",
       "      <th>labels</th>\n",
       "    </tr>\n",
       "  </thead>\n",
       "  <tbody>\n",
       "    <tr>\n",
       "      <th>0</th>\n",
       "      <td>003sg</td>\n",
       "      <td>0.230201</td>\n",
       "      <td>0.596807</td>\n",
       "      <td>0.640554</td>\n",
       "      <td>0.484940</td>\n",
       "      <td>0.432625</td>\n",
       "      <td>0.727936</td>\n",
       "      <td>0.778322</td>\n",
       "      <td>0.382711</td>\n",
       "      <td>0.503943</td>\n",
       "      <td>1 2 4 5 6 7</td>\n",
       "    </tr>\n",
       "    <tr>\n",
       "      <th>1</th>\n",
       "      <td>00er5</td>\n",
       "      <td>0.239906</td>\n",
       "      <td>0.571340</td>\n",
       "      <td>0.629270</td>\n",
       "      <td>0.502097</td>\n",
       "      <td>0.389818</td>\n",
       "      <td>0.732717</td>\n",
       "      <td>0.772937</td>\n",
       "      <td>0.355109</td>\n",
       "      <td>0.537914</td>\n",
       "      <td>0 1 2 3 5 6 7 8</td>\n",
       "    </tr>\n",
       "    <tr>\n",
       "      <th>2</th>\n",
       "      <td>00kad</td>\n",
       "      <td>0.251537</td>\n",
       "      <td>0.547811</td>\n",
       "      <td>0.585824</td>\n",
       "      <td>0.493882</td>\n",
       "      <td>0.379825</td>\n",
       "      <td>0.692566</td>\n",
       "      <td>0.731217</td>\n",
       "      <td>0.333190</td>\n",
       "      <td>0.537440</td>\n",
       "      <td>0 3 8</td>\n",
       "    </tr>\n",
       "    <tr>\n",
       "      <th>3</th>\n",
       "      <td>00mc6</td>\n",
       "      <td>0.247113</td>\n",
       "      <td>0.585420</td>\n",
       "      <td>0.617900</td>\n",
       "      <td>0.459667</td>\n",
       "      <td>0.407160</td>\n",
       "      <td>0.712600</td>\n",
       "      <td>0.725760</td>\n",
       "      <td>0.323447</td>\n",
       "      <td>0.531580</td>\n",
       "      <td>0 1 4</td>\n",
       "    </tr>\n",
       "    <tr>\n",
       "      <th>4</th>\n",
       "      <td>00q7x</td>\n",
       "      <td>0.212383</td>\n",
       "      <td>0.563004</td>\n",
       "      <td>0.605767</td>\n",
       "      <td>0.464771</td>\n",
       "      <td>0.385029</td>\n",
       "      <td>0.690475</td>\n",
       "      <td>0.814358</td>\n",
       "      <td>0.340313</td>\n",
       "      <td>0.529050</td>\n",
       "      <td>6</td>\n",
       "    </tr>\n",
       "  </tbody>\n",
       "</table>\n",
       "</div>"
      ],
      "text/plain": [
       "  business_id         0         1         2         3         4         5  \\\n",
       "0       003sg  0.230201  0.596807  0.640554  0.484940  0.432625  0.727936   \n",
       "1       00er5  0.239906  0.571340  0.629270  0.502097  0.389818  0.732717   \n",
       "2       00kad  0.251537  0.547811  0.585824  0.493882  0.379825  0.692566   \n",
       "3       00mc6  0.247113  0.585420  0.617900  0.459667  0.407160  0.712600   \n",
       "4       00q7x  0.212383  0.563004  0.605767  0.464771  0.385029  0.690475   \n",
       "\n",
       "          6         7         8            labels  \n",
       "0  0.778322  0.382711  0.503943       1 2 4 5 6 7  \n",
       "1  0.772937  0.355109  0.537914   0 1 2 3 5 6 7 8  \n",
       "2  0.731217  0.333190  0.537440             0 3 8  \n",
       "3  0.725760  0.323447  0.531580             0 1 4  \n",
       "4  0.814358  0.340313  0.529050                 6  "
      ]
     },
     "execution_count": 293,
     "metadata": {},
     "output_type": "execute_result"
    }
   ],
   "source": [
    "sub.head()"
   ]
  },
  {
   "cell_type": "code",
   "execution_count": 294,
   "metadata": {},
   "outputs": [
    {
     "data": {
      "text/plain": [
       " 1 2 4 5 6 7        3144\n",
       " 0 3 8              1521\n",
       " 1 2 3 4 5 6 7      1509\n",
       " 0 8                 876\n",
       " 6 8                 152\n",
       " 0 6 8               102\n",
       " 1 2 4 5 6            97\n",
       " 1 2 3 4 5 7          90\n",
       " 8                    78\n",
       " 1 2 4 5 7            75\n",
       " 0 1 2 4 5 6 7        71\n",
       " 0 1 2 3 4 5 7        67\n",
       " 0 3 6 8              65\n",
       " 1 2 3 5 6            63\n",
       " 3 8                  62\n",
       " 0 3 5 8              60\n",
       " 1 2 5 6 8            54\n",
       " 0 1 2 3 4 5 6 7      52\n",
       " 1 2 4 6 7            50\n",
       " 3 6 8                46\n",
       " 0 1 2 5 6 8          43\n",
       " 1 2 3 4 5 6          42\n",
       " 1 2 4 5 6 7 8        39\n",
       " 0 1 2 4 5 7          39\n",
       " 1 2 5 6              38\n",
       " 2 3 5 6 8            33\n",
       " 0 3 4 7              31\n",
       " 0 1 2 3 5 6 8        31\n",
       " 0 3 7 8              31\n",
       " 0 1 2 4 7            28\n",
       "                    ... \n",
       " 2 3 4 6 8             1\n",
       " 4 5                   1\n",
       " 0 2 4 5 6 7 8         1\n",
       " 1 2 3 4 5 6 8         1\n",
       " 0 1 5 7 8             1\n",
       " 1 2 4 5 7 8           1\n",
       " 2 4 7                 1\n",
       " 2 3 5 7               1\n",
       " 0 1 3 4               1\n",
       " 2 3 4 5 6 8           1\n",
       " 0 1 3 4 7 8           1\n",
       " 0 3 5 6 7 8           1\n",
       " 2 4 6                 1\n",
       " 0 2 3 4 5 7           1\n",
       " 0 2 4 7               1\n",
       " 1 4 5 6 8             1\n",
       " 5 7 8                 1\n",
       " 0 1 4 6 7 8           1\n",
       " 0 1 2 3 4 6 7 8       1\n",
       " 1 2 3 4 7 8           1\n",
       " 0 4 5 7               1\n",
       " 1 3 5                 1\n",
       " 2 3 5 7 8             1\n",
       " 1 2 6 7               1\n",
       " 0 4 5 6 8             1\n",
       " 0 1 2 3 6 8           1\n",
       " 1 3 4 5 6             1\n",
       " 0 6                   1\n",
       " 1 2 6                 1\n",
       " 0 3 5 7 8             1\n",
       "Name: labels, Length: 313, dtype: int64"
      ]
     },
     "execution_count": 294,
     "metadata": {},
     "output_type": "execute_result"
    }
   ],
   "source": [
    "# Un aperçu des classes et de leurs fréquences\n",
    "# sub[\"labels\"].describe()\n",
    "sub[\"labels\"].value_counts(dropna=False) "
   ]
  },
  {
   "cell_type": "code",
   "execution_count": 295,
   "metadata": {},
   "outputs": [],
   "source": [
    "sub.drop(columns =['0','1','2','3','4','5','6','7','8'], inplace = True)"
   ]
  },
  {
   "cell_type": "code",
   "execution_count": 296,
   "metadata": {},
   "outputs": [
    {
     "data": {
      "text/html": [
       "<div>\n",
       "<style scoped>\n",
       "    .dataframe tbody tr th:only-of-type {\n",
       "        vertical-align: middle;\n",
       "    }\n",
       "\n",
       "    .dataframe tbody tr th {\n",
       "        vertical-align: top;\n",
       "    }\n",
       "\n",
       "    .dataframe thead th {\n",
       "        text-align: right;\n",
       "    }\n",
       "</style>\n",
       "<table border=\"1\" class=\"dataframe\">\n",
       "  <thead>\n",
       "    <tr style=\"text-align: right;\">\n",
       "      <th></th>\n",
       "      <th>business_id</th>\n",
       "      <th>labels</th>\n",
       "    </tr>\n",
       "  </thead>\n",
       "  <tbody>\n",
       "    <tr>\n",
       "      <th>0</th>\n",
       "      <td>003sg</td>\n",
       "      <td>1 2 4 5 6 7</td>\n",
       "    </tr>\n",
       "    <tr>\n",
       "      <th>1</th>\n",
       "      <td>00er5</td>\n",
       "      <td>0 1 2 3 5 6 7 8</td>\n",
       "    </tr>\n",
       "    <tr>\n",
       "      <th>2</th>\n",
       "      <td>00kad</td>\n",
       "      <td>0 3 8</td>\n",
       "    </tr>\n",
       "    <tr>\n",
       "      <th>3</th>\n",
       "      <td>00mc6</td>\n",
       "      <td>0 1 4</td>\n",
       "    </tr>\n",
       "    <tr>\n",
       "      <th>4</th>\n",
       "      <td>00q7x</td>\n",
       "      <td>6</td>\n",
       "    </tr>\n",
       "  </tbody>\n",
       "</table>\n",
       "</div>"
      ],
      "text/plain": [
       "  business_id            labels\n",
       "0       003sg       1 2 4 5 6 7\n",
       "1       00er5   0 1 2 3 5 6 7 8\n",
       "2       00kad             0 3 8\n",
       "3       00mc6             0 1 4\n",
       "4       00q7x                 6"
      ]
     },
     "execution_count": 296,
     "metadata": {},
     "output_type": "execute_result"
    }
   ],
   "source": [
    "# Df final\n",
    "sub.head()"
   ]
  },
  {
   "cell_type": "code",
   "execution_count": 297,
   "metadata": {},
   "outputs": [],
   "source": [
    "#On enregistre le Df en .csv\n",
    "sub.to_csv('sample_submissionmean.csv', index=False)"
   ]
  },
  {
   "cell_type": "code",
   "execution_count": 234,
   "metadata": {},
   "outputs": [],
   "source": [
    "#Scores on Kaggle with regards to treshold :\n",
    "# 0.20 : 0.67447\n",
    "# 0.40 : 0.75810\n",
    "# 0.45 : 0.77539\n",
    "# 0.48 : 0.78647\n",
    "# 0.49 : 0.78471\n",
    "# 0.50 : 0.78660\n",
    "# 0.52 : 0.77694\n",
    "# 0.55 : 0.75934\n",
    "# 0.60 : 0.71806\n",
    "# 0.66 : 0.67792\n",
    "# mean : 0.75367"
   ]
  },
  {
   "cell_type": "code",
   "execution_count": null,
   "metadata": {},
   "outputs": [],
   "source": []
  }
 ],
 "metadata": {
  "kernelspec": {
   "display_name": "fastai",
   "language": "python",
   "name": "fastai"
  },
  "language_info": {
   "codemirror_mode": {
    "name": "ipython",
    "version": 3
   },
   "file_extension": ".py",
   "mimetype": "text/x-python",
   "name": "python",
   "nbconvert_exporter": "python",
   "pygments_lexer": "ipython3",
   "version": "3.7.3"
  }
 },
 "nbformat": 4,
 "nbformat_minor": 2
}
